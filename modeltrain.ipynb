{
 "cells": [
  {
   "cell_type": "code",
   "execution_count": 6,
   "metadata": {},
   "outputs": [
    {
     "name": "stdout",
     "output_type": "stream",
     "text": [
      "path : jatinsir-001/jatin sir.wav\n",
      "path : jatinsir-001/jatin sir2.wav\n",
      "+ modeling completed for speaker: jatinsir.gmm  with data point =  (4266, 40)\n",
      "path : navneet-002/navneet1.wav\n",
      "path : navneet-002/navneet2.wav\n",
      "+ modeling completed for speaker: navneet.gmm  with data point =  (3943, 40)\n",
      "path : sachinsir-003/sachin sir.wav\n",
      "path : sachinsir-003/sachin sir2.wav\n",
      "+ modeling completed for speaker: sachinsir.gmm  with data point =  (2172, 40)\n",
      "path : shubham-004/shubham1.wav\n",
      "path : shubham-004/shubham2.wav\n",
      "+ modeling completed for speaker: shubham.gmm  with data point =  (8443, 40)\n",
      "path : sparshsir-005/sparsh sir.wav\n",
      "path : sparshsir-005/sparsh sir2.wav\n",
      "+ modeling completed for speaker: sparshsir.gmm  with data point =  (2789, 40)\n"
     ]
    }
   ],
   "source": [
    "import _pickle as cPickle\n",
    "import numpy as np\n",
    "from scipy.io.wavfile import read\n",
    "from sklearn import mixture \n",
    "from featureextraction import extract_features\n",
    "#from speakerfeatures import extract_features\n",
    "import warnings\n",
    "warnings.filterwarnings(\"ignore\")\n",
    "\n",
    "\n",
    "#path to training data\n",
    "# source   = \"development_set/\"\n",
    "source   = \"trainingData/\"   \n",
    "#path where training speakers will be saved\n",
    "\n",
    "# dest = \"speaker_models/\"\n",
    "# train_file = \"development_set_enroll.txt\"\n",
    "dest = \"Speakers_models/\"\n",
    "train_file = \"trainingDataPath.txt\"        \n",
    "file_paths = open(train_file,'r')\n",
    "count = 1\n",
    "# Extracting features for each speaker (2 files per speakers)\n",
    "features = np.asarray(())\n",
    "for path in file_paths:    \n",
    "    path = path.strip()   \n",
    "    print (\"path :\",path)\n",
    "  \n",
    "    # read the audio\n",
    "    sr,audio = read(source + path)\n",
    "    \n",
    "    # extract 40 dimensional MFCC & delta MFCC features\n",
    "    vector   = extract_features(audio,sr)\n",
    "    \n",
    "    if features.size == 0:\n",
    "        features = vector\n",
    "    else:\n",
    "        features = np.vstack((features, vector))\n",
    "    # when features of 2 files of speaker are concatenated, then do model training\n",
    "\t# -> if count == 2: --> edited below\n",
    "    if count == 2: # no of input user    \n",
    "        gmm = mixture.GaussianMixture(n_components = 16, max_iter = 200, covariance_type='diag',n_init = 3)\n",
    "        gmm.fit(features)\n",
    "        \n",
    "        # dumping the trained gaussian model\n",
    "        picklefile = path.split(\"-\")[0]+\".gmm\"\n",
    "        cPickle.dump(gmm,open(dest + picklefile,'wb'))\n",
    "        print ('+ modeling completed for speaker:',picklefile,\" with data point = \",features.shape)    \n",
    "        features = np.asarray(())\n",
    "        count = 0\n",
    "    count = count + 1"
   ]
  },
  {
   "cell_type": "code",
   "execution_count": null,
   "metadata": {},
   "outputs": [],
   "source": []
  },
  {
   "cell_type": "code",
   "execution_count": null,
   "metadata": {},
   "outputs": [],
   "source": [
    "\n"
   ]
  },
  {
   "cell_type": "code",
   "execution_count": null,
   "metadata": {},
   "outputs": [],
   "source": []
  }
 ],
 "metadata": {
  "kernelspec": {
   "display_name": "Python 3",
   "language": "python",
   "name": "python3"
  },
  "language_info": {
   "codemirror_mode": {
    "name": "ipython",
    "version": 3
   },
   "file_extension": ".py",
   "mimetype": "text/x-python",
   "name": "python",
   "nbconvert_exporter": "python",
   "pygments_lexer": "ipython3",
   "version": "3.7.0"
  }
 },
 "nbformat": 4,
 "nbformat_minor": 2
}
